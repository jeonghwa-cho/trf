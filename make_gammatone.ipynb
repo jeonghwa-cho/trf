{
 "cells": [
  {
   "cell_type": "code",
   "execution_count": 1,
   "id": "b29c5070",
   "metadata": {},
   "outputs": [
    {
     "name": "stdout",
     "output_type": "stream",
     "text": [
      "Collecting https://github.com/christianbrodbeck/TRF-Tools/archive/main.zip\n",
      "  Downloading https://github.com/christianbrodbeck/TRF-Tools/archive/main.zip\n",
      "\u001b[K     - 95 kB 1.7 MB/ss\n",
      "\u001b[?25hCollecting textgrid>=1.5\n",
      "  Downloading TextGrid-1.5-py3-none-any.whl (10.0 kB)\n",
      "Requirement already satisfied: filelock in /opt/anaconda3/lib/python3.9/site-packages (from trftools==0.1.dev0) (3.3.1)\n",
      "Requirement already satisfied: appdirs in /opt/anaconda3/lib/python3.9/site-packages (from trftools==0.1.dev0) (1.4.4)\n",
      "Building wheels for collected packages: trftools\n",
      "  Building wheel for trftools (setup.py) ... \u001b[?25ldone\n",
      "\u001b[?25h  Created wheel for trftools: filename=trftools-0.1.dev0-py3-none-any.whl size=93036 sha256=504254c63fbd09e84d6ffd1f53cd49ef55a203d64f6857bc21eb4b0700ec2ac2\n",
      "  Stored in directory: /private/var/folders/_k/w2d_vgls69j8jdzpkggs_rgw0000gn/T/pip-ephem-wheel-cache-xvhgbbir/wheels/00/f6/df/50e73429778dd5dd69e0b5a2cbd639c46b886d070c2e59ebeb\n",
      "Successfully built trftools\n",
      "Installing collected packages: textgrid, trftools\n",
      "Successfully installed textgrid-1.5 trftools-0.1.dev0\n"
     ]
    }
   ],
   "source": [
    "!pip install https://github.com/christianbrodbeck/TRF-Tools/archive/main.zip"
   ]
  },
  {
   "cell_type": "code",
   "execution_count": 2,
   "id": "7ace286c",
   "metadata": {},
   "outputs": [
    {
     "name": "stdout",
     "output_type": "stream",
     "text": [
      "Collecting https://github.com/christianbrodbeck/gammatone/archive/fmax.zip\n",
      "  Downloading https://github.com/christianbrodbeck/gammatone/archive/fmax.zip\n",
      "\u001b[K     \\ 59.4 MB 11.6 MB/s     - 44.2 MB 42.3 MB/s\n",
      "\u001b[?25hRequirement already satisfied: numpy in /opt/anaconda3/lib/python3.9/site-packages (from Gammatone==1.0) (1.20.3)\n",
      "Requirement already satisfied: scipy in /opt/anaconda3/lib/python3.9/site-packages (from Gammatone==1.0) (1.7.1)\n",
      "Requirement already satisfied: nose in /opt/anaconda3/lib/python3.9/site-packages (from Gammatone==1.0) (1.3.7)\n",
      "Requirement already satisfied: mock in /opt/anaconda3/lib/python3.9/site-packages (from Gammatone==1.0) (4.0.3)\n",
      "Requirement already satisfied: matplotlib in /opt/anaconda3/lib/python3.9/site-packages (from Gammatone==1.0) (3.4.3)\n",
      "Requirement already satisfied: python-dateutil>=2.7 in /opt/anaconda3/lib/python3.9/site-packages (from matplotlib->Gammatone==1.0) (2.8.2)\n",
      "Requirement already satisfied: pyparsing>=2.2.1 in /opt/anaconda3/lib/python3.9/site-packages (from matplotlib->Gammatone==1.0) (3.0.4)\n",
      "Requirement already satisfied: pillow>=6.2.0 in /opt/anaconda3/lib/python3.9/site-packages (from matplotlib->Gammatone==1.0) (8.4.0)\n",
      "Requirement already satisfied: cycler>=0.10 in /opt/anaconda3/lib/python3.9/site-packages (from matplotlib->Gammatone==1.0) (0.10.0)\n",
      "Requirement already satisfied: kiwisolver>=1.0.1 in /opt/anaconda3/lib/python3.9/site-packages (from matplotlib->Gammatone==1.0) (1.3.1)\n",
      "Requirement already satisfied: six in /opt/anaconda3/lib/python3.9/site-packages (from cycler>=0.10->matplotlib->Gammatone==1.0) (1.16.0)\n",
      "Building wheels for collected packages: Gammatone\n",
      "  Building wheel for Gammatone (setup.py) ... \u001b[?25ldone\n",
      "\u001b[?25h  Created wheel for Gammatone: filename=Gammatone-1.0-py3-none-any.whl size=21842 sha256=8d4f538987e101cfdc4625f8738bacfa9edc3cda39a084f33c71ca4dc315d956\n",
      "  Stored in directory: /private/var/folders/_k/w2d_vgls69j8jdzpkggs_rgw0000gn/T/pip-ephem-wheel-cache-uo8whszf/wheels/99/79/f9/926aaecd090562d48a56cb973db3e4a1f2564f3cdb7fc2912a\n",
      "Successfully built Gammatone\n",
      "Installing collected packages: Gammatone\n",
      "Successfully installed Gammatone-1.0\n"
     ]
    }
   ],
   "source": [
    "!pip install https://github.com/christianbrodbeck/gammatone/archive/fmax.zip"
   ]
  },
  {
   "cell_type": "code",
   "execution_count": 10,
   "id": "56d7f33e",
   "metadata": {},
   "outputs": [],
   "source": [
    "from pathlib import Path\n",
    "\n",
    "from eelbrain import *\n",
    "from trftools import gammatone_bank"
   ]
  },
  {
   "cell_type": "code",
   "execution_count": 11,
   "id": "a345e69a",
   "metadata": {},
   "outputs": [
    {
     "data": {
      "text/plain": [
       "124"
      ]
     },
     "execution_count": 11,
     "metadata": {},
     "output_type": "execute_result"
    }
   ],
   "source": [
    "import gc\n",
    "gc.collect()"
   ]
  },
  {
   "cell_type": "markdown",
   "id": "124089e6",
   "metadata": {},
   "source": [
    "### Alice First\n",
    "\n",
    "make gammatone, see <https://github.com/christianbrodbeck/gammatone>"
   ]
  },
  {
   "cell_type": "code",
   "execution_count": 14,
   "id": "32d0a7a2",
   "metadata": {},
   "outputs": [
    {
     "data": {
      "application/vnd.jupyter.widget-view+json": {
       "model_id": "7dcc3b02489d4f61be1abccd3086d8b3",
       "version_major": 2,
       "version_minor": 0
      },
      "text/plain": [
       "Gammatone spectrogram:   0%|          | 0/256 [00:00<?, ?band/s]"
      ]
     },
     "metadata": {},
     "output_type": "display_data"
    },
    {
     "name": "stderr",
     "output_type": "stream",
     "text": [
      "OMP: Info #271: omp_set_nested routine deprecated, please use omp_set_max_active_levels instead.\n"
     ]
    },
    {
     "name": "stdout",
     "output_type": "stream",
     "text": [
      "Resampling 1\n"
     ]
    },
    {
     "data": {
      "application/vnd.jupyter.widget-view+json": {
       "model_id": "066efc110a2f4c85b77da9136ef9ba64",
       "version_major": 2,
       "version_minor": 0
      },
      "text/plain": [
       "Gammatone spectrogram:   0%|          | 0/256 [00:00<?, ?band/s]"
      ]
     },
     "metadata": {},
     "output_type": "display_data"
    },
    {
     "name": "stdout",
     "output_type": "stream",
     "text": [
      "Resampling 2\n"
     ]
    },
    {
     "data": {
      "application/vnd.jupyter.widget-view+json": {
       "model_id": "15b25a20e8a94513bb531234d9551bc4",
       "version_major": 2,
       "version_minor": 0
      },
      "text/plain": [
       "Gammatone spectrogram:   0%|          | 0/256 [00:00<?, ?band/s]"
      ]
     },
     "metadata": {},
     "output_type": "display_data"
    },
    {
     "name": "stdout",
     "output_type": "stream",
     "text": [
      "Resampling 3\n"
     ]
    },
    {
     "data": {
      "application/vnd.jupyter.widget-view+json": {
       "model_id": "0d22b75fc1bb4caf89d70a0059edc627",
       "version_major": 2,
       "version_minor": 0
      },
      "text/plain": [
       "Gammatone spectrogram:   0%|          | 0/256 [00:00<?, ?band/s]"
      ]
     },
     "metadata": {},
     "output_type": "display_data"
    },
    {
     "name": "stdout",
     "output_type": "stream",
     "text": [
      "Resampling 4\n"
     ]
    },
    {
     "data": {
      "application/vnd.jupyter.widget-view+json": {
       "model_id": "12f317436563470f84807e58eb03dc74",
       "version_major": 2,
       "version_minor": 0
      },
      "text/plain": [
       "Gammatone spectrogram:   0%|          | 0/256 [00:00<?, ?band/s]"
      ]
     },
     "metadata": {},
     "output_type": "display_data"
    },
    {
     "name": "stdout",
     "output_type": "stream",
     "text": [
      "Resampling 5\n"
     ]
    },
    {
     "data": {
      "application/vnd.jupyter.widget-view+json": {
       "model_id": "6326df0b54334b44bda52fbb95129c85",
       "version_major": 2,
       "version_minor": 0
      },
      "text/plain": [
       "Gammatone spectrogram:   0%|          | 0/256 [00:00<?, ?band/s]"
      ]
     },
     "metadata": {},
     "output_type": "display_data"
    },
    {
     "name": "stdout",
     "output_type": "stream",
     "text": [
      "Resampling 6\n"
     ]
    },
    {
     "data": {
      "application/vnd.jupyter.widget-view+json": {
       "model_id": "254cf587c3da4cffb06c1c65d7177e98",
       "version_major": 2,
       "version_minor": 0
      },
      "text/plain": [
       "Gammatone spectrogram:   0%|          | 0/256 [00:00<?, ?band/s]"
      ]
     },
     "metadata": {},
     "output_type": "display_data"
    },
    {
     "name": "stdout",
     "output_type": "stream",
     "text": [
      "Resampling 7\n"
     ]
    },
    {
     "data": {
      "application/vnd.jupyter.widget-view+json": {
       "model_id": "9610c7316f364cb781f529e1057d471b",
       "version_major": 2,
       "version_minor": 0
      },
      "text/plain": [
       "Gammatone spectrogram:   0%|          | 0/256 [00:00<?, ?band/s]"
      ]
     },
     "metadata": {},
     "output_type": "display_data"
    },
    {
     "name": "stdout",
     "output_type": "stream",
     "text": [
      "Resampling 8\n"
     ]
    },
    {
     "data": {
      "application/vnd.jupyter.widget-view+json": {
       "model_id": "238deca713da4b61b34a3a846d911a6d",
       "version_major": 2,
       "version_minor": 0
      },
      "text/plain": [
       "Gammatone spectrogram:   0%|          | 0/256 [00:00<?, ?band/s]"
      ]
     },
     "metadata": {},
     "output_type": "display_data"
    },
    {
     "name": "stdout",
     "output_type": "stream",
     "text": [
      "Resampling 9\n"
     ]
    },
    {
     "data": {
      "application/vnd.jupyter.widget-view+json": {
       "model_id": "0ddc8f126d054e35aedad1a3d9e5cdce",
       "version_major": 2,
       "version_minor": 0
      },
      "text/plain": [
       "Gammatone spectrogram:   0%|          | 0/256 [00:00<?, ?band/s]"
      ]
     },
     "metadata": {},
     "output_type": "display_data"
    },
    {
     "name": "stdout",
     "output_type": "stream",
     "text": [
      "Resampling 10\n"
     ]
    },
    {
     "data": {
      "application/vnd.jupyter.widget-view+json": {
       "model_id": "c6bcdddcac0844a698069bddd6cc4fc5",
       "version_major": 2,
       "version_minor": 0
      },
      "text/plain": [
       "Gammatone spectrogram:   0%|          | 0/256 [00:00<?, ?band/s]"
      ]
     },
     "metadata": {},
     "output_type": "display_data"
    },
    {
     "name": "stdout",
     "output_type": "stream",
     "text": [
      "Resampling 11\n"
     ]
    }
   ],
   "source": [
    "DATA_ROOT = Path(\"~\").expanduser() / 'Dropbox (University of Michigan)' / 'Alice_trf' \n",
    "STIMULUS_DIR = DATA_ROOT / 'stimuli'\n",
    "\n",
    "for i in range(1,12):\n",
    "    dst = STIMULUS_DIR / f'{i}-gammatone.pickle'\n",
    "    try:\n",
    "        wav = load.wav(STIMULUS_DIR / f'{i}.wav')\n",
    "        gt = gammatone_bank(wav, 20, 5000, 256, location='left', pad=False)\n",
    "        gt = resample(gt, 1000)\n",
    "        print(\"Resampling {}\".format(i))\n",
    "        save.pickle(gt, dst)\n",
    "    except MemoryError:\n",
    "        print(\"Memory Error\")\n",
    "    gc.collect()"
   ]
  },
  {
   "cell_type": "markdown",
   "id": "3cea7c23",
   "metadata": {},
   "source": [
    "### Now Little Prince"
   ]
  },
  {
   "cell_type": "code",
   "execution_count": null,
   "id": "631e9c78",
   "metadata": {},
   "outputs": [],
   "source": [
    "DATA_ROOT = Path(\"~\").expanduser() / 'Dropbox (University of Michigan)' / 'LittlePrince_trf' \n",
    "\n",
    "STIMULUS_DIR = DATA_ROOT / 'stimuli'\n",
    "\n",
    "i=11\n",
    "dst = STIMULUS_DIR / f'{i}-gammatone.pickle'\n",
    "try:\n",
    "    wav = load.wav(STIMULUS_DIR / f'{i}.wav')\n",
    "    gt = gammatone_bank(wav, 20, 5000, 256, location='left', pad=False)\n",
    "    gt = resample(gt, 1000)\n",
    "    print(\"Resampling {}\".format(i))\n",
    "    save.pickle(gt, dst)\n",
    "except MemoryError:\n",
    "    print(\"Memory Error\")\n",
    "gc.collect()"
   ]
  }
 ],
 "metadata": {
  "kernelspec": {
   "display_name": "Python 3 (ipykernel)",
   "language": "python",
   "name": "python3"
  },
  "language_info": {
   "codemirror_mode": {
    "name": "ipython",
    "version": 3
   },
   "file_extension": ".py",
   "mimetype": "text/x-python",
   "name": "python",
   "nbconvert_exporter": "python",
   "pygments_lexer": "ipython3",
   "version": "3.9.7"
  }
 },
 "nbformat": 4,
 "nbformat_minor": 5
}
