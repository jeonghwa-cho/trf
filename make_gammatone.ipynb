{
 "cells": [
  {
   "cell_type": "code",
   "execution_count": 2,
   "id": "b29c5070",
   "metadata": {
    "collapsed": true
   },
   "outputs": [
    {
     "name": "stdout",
     "output_type": "stream",
     "text": [
      "Collecting https://github.com/christianbrodbeck/TRF-Tools/archive/main.zip\n",
      "  Downloading https://github.com/christianbrodbeck/TRF-Tools/archive/main.zip\n",
      "     \\ 93.5 kB 1.5 MB/s 0:00:00\n",
      "  Preparing metadata (setup.py): started\n",
      "  Preparing metadata (setup.py): finished with status 'done'\n",
      "Collecting textgrid>=1.5\n",
      "  Downloading TextGrid-1.5-py3-none-any.whl (10.0 kB)\n",
      "Collecting filelock\n",
      "  Downloading filelock-3.6.0-py3-none-any.whl (10.0 kB)\n",
      "Requirement already satisfied: appdirs in c:\\users\\lg\\anaconda3\\envs\\eelbrain\\lib\\site-packages (from trftools==0.1.dev0) (1.4.4)\n",
      "Building wheels for collected packages: trftools\n",
      "  Building wheel for trftools (setup.py): started\n",
      "  Building wheel for trftools (setup.py): finished with status 'done'\n",
      "  Created wheel for trftools: filename=trftools-0.1.dev0-py3-none-any.whl size=91251 sha256=95e0ef9fdc16c1dd300aac01dc5f0e97d20d9a1e19e4f064c1739d5dce153dbf\n",
      "  Stored in directory: C:\\Users\\LG\\AppData\\Local\\Temp\\pip-ephem-wheel-cache-jyb1pab_\\wheels\\00\\f6\\df\\50e73429778dd5dd69e0b5a2cbd639c46b886d070c2e59ebeb\n",
      "Successfully built trftools\n",
      "Installing collected packages: textgrid, filelock, trftools\n",
      "Successfully installed filelock-3.6.0 textgrid-1.5 trftools-0.1.dev0\n"
     ]
    }
   ],
   "source": [
    "!pip install https://github.com/christianbrodbeck/TRF-Tools/archive/main.zip"
   ]
  },
  {
   "cell_type": "code",
   "execution_count": 5,
   "id": "7ace286c",
   "metadata": {
    "collapsed": true
   },
   "outputs": [
    {
     "name": "stdout",
     "output_type": "stream",
     "text": [
      "Collecting https://github.com/christianbrodbeck/gammatone/archive/fmax.zip\n",
      "  Downloading https://github.com/christianbrodbeck/gammatone/archive/fmax.zip\n",
      "     \\ 59.4 MB 14.9 MB/s 0:00:07\n",
      "  Preparing metadata (setup.py): started\n",
      "  Preparing metadata (setup.py): finished with status 'done'\n",
      "Requirement already satisfied: numpy in c:\\users\\lg\\anaconda3\\envs\\eelbrain\\lib\\site-packages (from Gammatone==1.0) (1.20.3)\n",
      "Requirement already satisfied: scipy in c:\\users\\lg\\anaconda3\\envs\\eelbrain\\lib\\site-packages (from Gammatone==1.0) (1.8.0)\n",
      "Collecting nose\n",
      "  Downloading nose-1.3.7-py3-none-any.whl (154 kB)\n",
      "     -------------------------------------- 154.7/154.7 KB 3.1 MB/s eta 0:00:00\n",
      "Collecting mock\n",
      "  Downloading mock-4.0.3-py3-none-any.whl (28 kB)\n",
      "Requirement already satisfied: matplotlib in c:\\users\\lg\\anaconda3\\envs\\eelbrain\\lib\\site-packages (from Gammatone==1.0) (3.5.1)\n",
      "Requirement already satisfied: packaging>=20.0 in c:\\users\\lg\\anaconda3\\envs\\eelbrain\\lib\\site-packages (from matplotlib->Gammatone==1.0) (21.3)\n",
      "Requirement already satisfied: kiwisolver>=1.0.1 in c:\\users\\lg\\anaconda3\\envs\\eelbrain\\lib\\site-packages (from matplotlib->Gammatone==1.0) (1.4.2)\n",
      "Requirement already satisfied: pillow>=6.2.0 in c:\\users\\lg\\anaconda3\\envs\\eelbrain\\lib\\site-packages (from matplotlib->Gammatone==1.0) (9.1.0)\n",
      "Requirement already satisfied: pyparsing>=2.2.1 in c:\\users\\lg\\anaconda3\\envs\\eelbrain\\lib\\site-packages (from matplotlib->Gammatone==1.0) (3.0.8)\n",
      "Requirement already satisfied: python-dateutil>=2.7 in c:\\users\\lg\\anaconda3\\envs\\eelbrain\\lib\\site-packages (from matplotlib->Gammatone==1.0) (2.8.2)\n",
      "Requirement already satisfied: cycler>=0.10 in c:\\users\\lg\\anaconda3\\envs\\eelbrain\\lib\\site-packages (from matplotlib->Gammatone==1.0) (0.11.0)\n",
      "Requirement already satisfied: fonttools>=4.22.0 in c:\\users\\lg\\anaconda3\\envs\\eelbrain\\lib\\site-packages (from matplotlib->Gammatone==1.0) (4.32.0)\n",
      "Requirement already satisfied: six>=1.5 in c:\\users\\lg\\anaconda3\\envs\\eelbrain\\lib\\site-packages (from python-dateutil>=2.7->matplotlib->Gammatone==1.0) (1.16.0)\n",
      "Building wheels for collected packages: Gammatone\n",
      "  Building wheel for Gammatone (setup.py): started\n",
      "  Building wheel for Gammatone (setup.py): finished with status 'done'\n",
      "  Created wheel for Gammatone: filename=Gammatone-1.0-py3-none-any.whl size=21835 sha256=1983e986c861158f35e42385cda66d476dec4bf5770271e7937928ef24fe0fe1\n",
      "  Stored in directory: C:\\Users\\LG\\AppData\\Local\\Temp\\pip-ephem-wheel-cache-v6kfk2dy\\wheels\\99\\79\\f9\\926aaecd090562d48a56cb973db3e4a1f2564f3cdb7fc2912a\n",
      "Successfully built Gammatone\n",
      "Installing collected packages: nose, mock, Gammatone\n",
      "Successfully installed Gammatone-1.0 mock-4.0.3 nose-1.3.7\n"
     ]
    }
   ],
   "source": [
    "!pip install https://github.com/christianbrodbeck/gammatone/archive/fmax.zip"
   ]
  },
  {
   "cell_type": "code",
   "execution_count": 1,
   "id": "56d7f33e",
   "metadata": {},
   "outputs": [],
   "source": [
    "from pathlib import Path\n",
    "\n",
    "from eelbrain import *\n",
    "from trftools import gammatone_bank"
   ]
  },
  {
   "cell_type": "code",
   "execution_count": 7,
   "id": "a345e69a",
   "metadata": {},
   "outputs": [
    {
     "data": {
      "text/plain": [
       "949"
      ]
     },
     "execution_count": 7,
     "metadata": {},
     "output_type": "execute_result"
    }
   ],
   "source": [
    "import gc\n",
    "gc.collect()"
   ]
  },
  {
   "cell_type": "code",
   "execution_count": 11,
   "id": "32d0a7a2",
   "metadata": {},
   "outputs": [
    {
     "data": {
      "application/vnd.jupyter.widget-view+json": {
       "model_id": "204771bd3628476ebbc11f6e2996784a",
       "version_major": 2,
       "version_minor": 0
      },
      "text/plain": [
       "Gammatone spectrogram:   0%|          | 0/256 [00:00<?, ?band/s]"
      ]
     },
     "metadata": {},
     "output_type": "display_data"
    },
    {
     "name": "stdout",
     "output_type": "stream",
     "text": [
      "Resampling 11\n"
     ]
    },
    {
     "data": {
      "text/plain": [
       "1438"
      ]
     },
     "execution_count": 11,
     "metadata": {},
     "output_type": "execute_result"
    }
   ],
   "source": [
    "DATA_ROOT = Path(\"~\").expanduser() / 'Data' / 'LittlePrince'\n",
    "    STIMULUS_DIR = DATA_ROOT / 'stimuli'\n",
    "\n",
    "for i in range(1,13):\n",
    "    dst = STIMULUS_DIR / f'{i}-gammatone.pickle'\n",
    "    try:\n",
    "        wav = load.wav(STIMULUS_DIR / f'{i}.wav')\n",
    "        gt = gammatone_bank(wav, 20, 5000, 256, location='left', pad=False)\n",
    "        gt = resample(gt, 1000)\n",
    "        print(\"Resampling {}\".format(i))\n",
    "        save.pickle(gt, dst)\n",
    "    except MemoryError:\n",
    "        print(\"Memory Error\")\n",
    "    gc.collect()"
   ]
  },
  {
   "cell_type": "code",
   "execution_count": null,
   "id": "631e9c78",
   "metadata": {},
   "outputs": [],
   "source": []
  }
 ],
 "metadata": {
  "kernelspec": {
   "display_name": "Python 3 (ipykernel)",
   "language": "python",
   "name": "python3"
  },
  "language_info": {
   "codemirror_mode": {
    "name": "ipython",
    "version": 3
   },
   "file_extension": ".py",
   "mimetype": "text/x-python",
   "name": "python",
   "nbconvert_exporter": "python",
   "pygments_lexer": "ipython3",
   "version": "3.9.12"
  }
 },
 "nbformat": 4,
 "nbformat_minor": 5
}
