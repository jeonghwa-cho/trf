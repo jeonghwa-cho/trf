{
 "cells": [
  {
   "cell_type": "code",
   "execution_count": 1,
   "id": "39ca00fb",
   "metadata": {},
   "outputs": [],
   "source": [
    "\"\"\"Predictors based on gammatone spectrograms\"\"\"\n",
    "from pathlib import Path\n",
    "\n",
    "import numpy as np\n",
    "from eelbrain import *\n",
    "from trftools.neural import edge_detector"
   ]
  },
  {
   "cell_type": "code",
   "execution_count": 2,
   "id": "4414059d",
   "metadata": {},
   "outputs": [],
   "source": [
    "DATA_ROOT = Path(\"~\").expanduser() / 'Data' / 'LittlePrince'\n",
    "STIMULUS_DIR = DATA_ROOT / 'stimuli'\n",
    "PREDICTOR_DIR = DATA_ROOT / 'predictors'\n",
    "\n",
    "PREDICTOR_DIR.mkdir(exist_ok=True)\n",
    "for i in range(1, 12):\n",
    "    gt = load.unpickle(STIMULUS_DIR / f'{i}-gammatone.pickle')\n",
    "\n",
    "    # Remove resampling artifacts\n",
    "    gt = gt.clip(0, out=gt)\n",
    "    # apply log transform\n",
    "    gt = (gt + 1).log()\n",
    "    # generate on- and offset detector model\n",
    "    gt_on = edge_detector(gt, c=30)\n",
    "\n",
    "    # 1 band predictors\n",
    "    save.pickle(gt.sum('frequency'), PREDICTOR_DIR / f'{i}~gammatone-1.pickle')\n",
    "    save.pickle(gt_on.sum('frequency'), PREDICTOR_DIR / f'{i}~gammatone-on-1.pickle')\n",
    "    # 8 band predictors\n",
    "    x = gt.bin(nbins=8, func=np.sum, dim='frequency')\n",
    "    save.pickle(x, PREDICTOR_DIR / f'{i}~gammatone-8.pickle')\n",
    "    x = gt_on.bin(nbins=8, func=np.sum, dim='frequency')\n",
    "    save.pickle(x, PREDICTOR_DIR / f'{i}~gammatone-on-8.pickle')"
   ]
  }
 ],
 "metadata": {
  "kernelspec": {
   "display_name": "Python 3 (ipykernel)",
   "language": "python",
   "name": "python3"
  },
  "language_info": {
   "codemirror_mode": {
    "name": "ipython",
    "version": 3
   },
   "file_extension": ".py",
   "mimetype": "text/x-python",
   "name": "python",
   "nbconvert_exporter": "python",
   "pygments_lexer": "ipython3",
   "version": "3.9.12"
  }
 },
 "nbformat": 4,
 "nbformat_minor": 5
}
