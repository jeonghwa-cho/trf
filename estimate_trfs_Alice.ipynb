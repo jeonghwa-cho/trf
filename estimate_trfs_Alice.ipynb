{
 "cells": [
  {
   "cell_type": "code",
   "execution_count": 1,
   "id": "3fb59074",
   "metadata": {},
   "outputs": [],
   "source": [
    "from pathlib import Path\n",
    "import re\n",
    "\n",
    "import eelbrain\n",
    "import mne\n",
    "import trftools"
   ]
  },
  {
   "cell_type": "code",
   "execution_count": 2,
   "id": "56aaaa65",
   "metadata": {},
   "outputs": [],
   "source": [
    "STIMULI = [str(i) for i in range(1, 13)]\n",
    "DATA_ROOT = Path(\"~\").expanduser() / 'Dropbox (University of Michigan)' / 'Alice_trf' \n",
    "PREDICTOR_DIR = DATA_ROOT / 'predictors'\n",
    "EEG_DIR = DATA_ROOT / 'eeg'\n",
    "SUBJECTS = [path.name for path in EEG_DIR.iterdir() if re.match(r'S\\d*', path.name)]\n",
    "# Define a target directory for TRF estimates and make sure the directory is created\n",
    "TRF_DIR = DATA_ROOT / 'TRFs'\n",
    "TRF_DIR.mkdir(exist_ok=True)"
   ]
  },
  {
   "cell_type": "code",
   "execution_count": 3,
   "id": "54a8af34",
   "metadata": {},
   "outputs": [
    {
     "data": {
      "text/plain": [
       "PosixPath('/Users/jobrenn/Dropbox (University of Michigan)/Alice_trf')"
      ]
     },
     "execution_count": 3,
     "metadata": {},
     "output_type": "execute_result"
    }
   ],
   "source": [
    "DATA_ROOT"
   ]
  },
  {
   "cell_type": "code",
   "execution_count": 4,
   "id": "85050fde",
   "metadata": {},
   "outputs": [],
   "source": [
    "# Load stimuli\n",
    "# ------------\n",
    "# Make sure to name the stimuli so that the TRFs can later be distinguished\n",
    "# Load the gammatone-spectrograms; use the time axis of these as reference\n",
    "gammatone = [eelbrain.load.unpickle(PREDICTOR_DIR / f'{stimulus}~gammatone-8.pickle') for stimulus in STIMULI]\n",
    "# Resample the spectrograms to 100 Hz (time-step = 0.01 s), which we will use for TRFs\n",
    "gammatone = [x.bin(0.01, dim='time', label='start') for x in gammatone]\n",
    "# Pad onset with 100 ms and offset with 1 second; make sure to give the predictor a unique name as that will make it easier to identify the TRF later\n",
    "gammatone = [trftools.pad(x, tstart=-0.100, tstop=x.time.tstop + 1, name='gammatone') for x in gammatone]\n",
    "# Load the broad-band envelope and process it in the same way\n",
    "envelope = [eelbrain.load.unpickle(PREDICTOR_DIR / f'{stimulus}~gammatone-1.pickle') for stimulus in STIMULI]\n",
    "envelope = [x.bin(0.01, dim='time', label='start') for x in envelope]\n",
    "envelope = [trftools.pad(x, tstart=-0.100, tstop=x.time.tstop + 1, name='envelope') for x in envelope]\n",
    "onset_envelope = [eelbrain.load.unpickle(PREDICTOR_DIR / f'{stimulus}~gammatone-on-1.pickle') for stimulus in STIMULI]\n",
    "onset_envelope = [x.bin(0.01, dim='time', label='start') for x in onset_envelope]\n",
    "onset_envelope = [trftools.pad(x, tstart=-0.100, tstop=x.time.tstop + 1, name='onset') for x in onset_envelope]\n",
    "# Load onset spectrograms and make sure the time dimension is equal to the gammatone spectrograms\n",
    "gammatone_onsets = [eelbrain.load.unpickle(PREDICTOR_DIR / f'{stimulus}~gammatone-on-8.pickle') for stimulus in STIMULI]\n",
    "gammatone_onsets = [x.bin(0.01, dim='time', label='start') for x in gammatone_onsets]\n",
    "gammatone_onsets = [eelbrain.set_time(x, gt.time, name='gammatone_on') for x, gt in zip(gammatone_onsets, gammatone)]\n",
    "# Load word tables and convert tables into continuous time-series with matching time dimension\n",
    "#word_tables = [eelbrain.load.unpickle(PREDICTOR_DIR / f'{stimulus}~word.pickle') for stimulus in STIMULI]\n",
    "#word_onsets = [eelbrain.event_impulse_predictor(gt.time, ds=ds, name='word') for gt, ds in zip(gammatone, word_tables)]\n",
    "# Function and content word impulses based on the boolean variables in the word-tables\n",
    "#word_lexical = [eelbrain.event_impulse_predictor(gt.time, value='lexical', ds=ds, name='lexical') for gt, ds in zip(gammatone, word_tables)]\n",
    "#word_nlexical = [eelbrain.event_impulse_predictor(gt.time, value='nlexical', ds=ds, name='non_lexical') for gt, ds in zip(gammatone, word_tables)]\n"
   ]
  },
  {
   "cell_type": "code",
   "execution_count": 5,
   "id": "cd6f8fd9",
   "metadata": {},
   "outputs": [],
   "source": [
    "# Extract the duration of the stimuli, so we can later match the EEG to the stimuli\n",
    "durations = [gt.time.tmax for stimulus, gt in zip(STIMULI, gammatone)]"
   ]
  },
  {
   "cell_type": "code",
   "execution_count": 6,
   "id": "76f25809",
   "metadata": {},
   "outputs": [
    {
     "data": {
      "text/plain": [
       "735.24"
      ]
     },
     "execution_count": 6,
     "metadata": {},
     "output_type": "execute_result"
    }
   ],
   "source": [
    "sum(durations)"
   ]
  },
  {
   "cell_type": "code",
   "execution_count": 7,
   "id": "97145b72",
   "metadata": {},
   "outputs": [],
   "source": [
    "# Models\n",
    "# ------\n",
    "# Pre-define models here to have easier access during estimation. In the future, additional models could be added here and the script re-run to generate additional TRFs.\n",
    "models = {\n",
    "    # Acoustic models\n",
    "    'envelope': [envelope],\n",
    "#    'envelope+onset': [envelope, onset_envelope],\n",
    "#    'acoustic': [gammatone, gammatone_onsets],\n",
    "    # Models with word-onsets and word-class\n",
    "#    'words': [word_onsets],\n",
    "#    'words+lexical': [word_onsets, word_lexical, word_nlexical],\n",
    "#    'acoustic+words': [gammatone, gammatone_onsets, word_onsets],\n",
    "#    'acoustic+words+lexical': [gammatone, gammatone_onsets, word_onsets, word_lexical, word_nlexical],\n",
    "}"
   ]
  },
  {
   "cell_type": "code",
   "execution_count": 8,
   "id": "b20a1fc8",
   "metadata": {},
   "outputs": [],
   "source": [
    "#Check raw eeg data\n",
    "\n",
    "subject = 'S03'\n",
    "raw = mne.io.read_raw(EEG_DIR / subject / f'{subject}_alice-raw.fif', preload=True)"
   ]
  },
  {
   "cell_type": "code",
   "execution_count": 9,
   "id": "743f64f5",
   "metadata": {},
   "outputs": [
    {
     "data": {
      "text/html": [
       "<table class=\"table table-hover table-striped table-sm table-responsive small\">\n",
       "    <tr>\n",
       "        <th>Measurement date</th>\n",
       "        \n",
       "        <td>Unknown</td>\n",
       "        \n",
       "    </tr>\n",
       "    <tr>\n",
       "        <th>Experimenter</th>\n",
       "        \n",
       "        <td>Unknown</td>\n",
       "        \n",
       "    </tr>\n",
       "        <th>Participant</th>\n",
       "        \n",
       "        <td>Unknown</td>\n",
       "        \n",
       "    </tr>\n",
       "    <tr>\n",
       "        <th>Digitized points</th>\n",
       "        \n",
       "        <td>0 points</td>\n",
       "        \n",
       "    </tr>\n",
       "    <tr>\n",
       "        <th>Good channels</th>\n",
       "        <td>61 EEG, 2 Stimulus</td>\n",
       "    </tr>\n",
       "    <tr>\n",
       "        <th>Bad channels</th>\n",
       "        <td>None</td>\n",
       "    </tr>\n",
       "    <tr>\n",
       "        <th>EOG channels</th>\n",
       "        <td>Not available</td>\n",
       "    </tr>\n",
       "    <tr>\n",
       "        <th>ECG channels</th>\n",
       "        <td>Not available</td>\n",
       "    \n",
       "    <tr>\n",
       "        <th>Sampling frequency</th>\n",
       "        <td>500.00 Hz</td>\n",
       "    </tr>\n",
       "    \n",
       "    \n",
       "    <tr>\n",
       "        <th>Highpass</th>\n",
       "        <td>0.50 Hz</td>\n",
       "    </tr>\n",
       "    \n",
       "    \n",
       "    <tr>\n",
       "        <th>Lowpass</th>\n",
       "        <td>20.00 Hz</td>\n",
       "    </tr>\n",
       "    \n",
       "    \n",
       "    \n",
       "    <tr>\n",
       "        <th>Filenames</th>\n",
       "        <td>S03_alice-raw.fif</td>\n",
       "    </tr>\n",
       "    \n",
       "    <tr>\n",
       "        <th>Duration</th>\n",
       "        <td>00:12:14 (HH:MM:SS)</td>\n",
       "    </tr>\n",
       "</table>"
      ],
      "text/plain": [
       "<Raw | S03_alice-raw.fif, 63 x 367300 (734.6 s), ~176.6 MB, data loaded>"
      ]
     },
     "execution_count": 9,
     "metadata": {},
     "output_type": "execute_result"
    }
   ],
   "source": [
    "raw.filter(0.5, 20)\n",
    "raw.interpolate_bads()"
   ]
  },
  {
   "cell_type": "code",
   "execution_count": 10,
   "id": "ea94d7a9",
   "metadata": {},
   "outputs": [
    {
     "name": "stdout",
     "output_type": "stream",
     "text": [
      "Using matplotlib backend: MacOSX\n"
     ]
    },
    {
     "name": "stderr",
     "output_type": "stream",
     "text": [
      "Traceback (most recent call last):\n",
      "  File \"/opt/anaconda3/lib/python3.9/site-packages/matplotlib/cbook/__init__.py\", line 270, in process\n",
      "    func(*args, **kwargs)\n",
      "  File \"/opt/anaconda3/lib/python3.9/site-packages/mne/viz/_mpl_figure.py\", line 511, in _resize\n",
      "    old_width, old_height = self.mne.fig_size_px\n",
      "AttributeError: 'BrowserParams' object has no attribute 'fig_size_px'\n"
     ]
    }
   ],
   "source": [
    "%matplotlib\n",
    "raw.plot();"
   ]
  },
  {
   "cell_type": "code",
   "execution_count": 13,
   "id": "a3750280",
   "metadata": {},
   "outputs": [
    {
     "name": "stdout",
     "output_type": "stream",
     "text": [
      "Estimating: S04 ~ envelope\n"
     ]
    },
    {
     "data": {
      "application/vnd.jupyter.widget-view+json": {
       "model_id": "",
       "version_major": 2,
       "version_minor": 0
      },
      "text/plain": [
       "Fitting models:   0%|          | 0/1220 [00:00<?, ?it/s]"
      ]
     },
     "metadata": {},
     "output_type": "display_data"
    }
   ],
   "source": [
    "# Estimate TRFs\n",
    "# -------------\n",
    "# Loop through subjects to estimate TRFs\n",
    "\n",
    "run_subjects = ['S01', 'S03', 'S04']\n",
    "\n",
    "for subject in run_subjects:\n",
    "    subject_trf_dir = TRF_DIR / subject\n",
    "    subject_trf_dir.mkdir(exist_ok=True)\n",
    "    # Generate all TRF paths so we can check whether any new TRFs need to be estimated\n",
    "    trf_paths = {model: subject_trf_dir / f'{subject} {model}.pickle' for model in models}\n",
    "\n",
    "    # Skip this subject if all files already exist\n",
    "    #if all(path.exists() for path in trf_paths.values()):\n",
    "    #    continue\n",
    "    # Load the EEG data\n",
    "    raw = mne.io.read_raw(EEG_DIR / subject / f'{subject}_alice-raw.fif', preload=True)\n",
    "    # Band-pass filter the raw data between 0.2 and 20 Hz\n",
    "    raw.filter(0.5, 20)\n",
    "    # Interpolate bad channels\n",
    "    raw.interpolate_bads()\n",
    "    # Extract the events marking the stimulus presentation from the EEG file\n",
    "    events = eelbrain.load.fiff.events(raw)\n",
    "    # Not all subjects have all trials; determine which stimuli are present\n",
    "    trial_indexes = [STIMULI.index(stimulus) for stimulus in events['event']]\n",
    "\n",
    "    # Extract the EEG data segments corresponding to the stimuli\n",
    "    trial_durations = [durations[i] for i in trial_indexes]\n",
    "    eeg = eelbrain.load.fiff.variable_length_epochs(events, -0.100, trial_durations, decim=5, connectivity='auto')\n",
    "\n",
    "    # Since trials are of unequal length, we will concatenate them for the TRF estimation.\n",
    "    eeg_concatenated = eelbrain.concatenate(eeg)\n",
    "\n",
    "    for model, predictors in models.items():\n",
    "        path = trf_paths[model]\n",
    "        # Skip if this file already exists\n",
    "        if path.exists():\n",
    "            continue\n",
    "        print(f\"Estimating: {subject} ~ {model}\")\n",
    "        # Select and concetenate the predictors corresponding to the EEG trials\n",
    "        predictors_concatenated = []\n",
    "        for predictor in predictors:\n",
    "            predictors_concatenated.append(eelbrain.concatenate([predictor[i] for i in trial_indexes]))\n",
    "        # Fit the mTRF\n",
    "        trf = eelbrain.boosting(eeg_concatenated, predictors_concatenated, -0.100, 1.000, error='l1', basis=0.050, partitions=5, test=1, selective_stopping=True)\n",
    "        # Save the TRF for later analysis\n",
    "        eelbrain.save.pickle(trf, path)"
   ]
  },
  {
   "cell_type": "markdown",
   "id": "515ea13a",
   "metadata": {},
   "source": [
    "### Sandbox"
   ]
  },
  {
   "cell_type": "code",
   "execution_count": 19,
   "id": "8b9e66eb",
   "metadata": {},
   "outputs": [
    {
     "data": {
      "text/plain": [
       "500.0"
      ]
     },
     "execution_count": 19,
     "metadata": {},
     "output_type": "execute_result"
    }
   ],
   "source": [
    "raw.info['sfreq']"
   ]
  },
  {
   "cell_type": "code",
   "execution_count": 20,
   "id": "16b6d2c5",
   "metadata": {},
   "outputs": [
    {
     "data": {
      "text/plain": [
       "{'raw': <Raw | S03_alice-raw.fif, 63 x 367300 (734.6 s), ~176.6 MB, data loaded>}"
      ]
     },
     "execution_count": 20,
     "metadata": {},
     "output_type": "execute_result"
    }
   ],
   "source": [
    "events.info"
   ]
  },
  {
   "cell_type": "code",
   "execution_count": 21,
   "id": "cefa16a2",
   "metadata": {},
   "outputs": [
    {
     "data": {
      "text/plain": [
       "UTS(0.0, 0.01, 73656)"
      ]
     },
     "execution_count": 21,
     "metadata": {},
     "output_type": "execute_result"
    }
   ],
   "source": [
    "eeg_concatenated.get_dim('time')"
   ]
  },
  {
   "cell_type": "code",
   "execution_count": 22,
   "id": "be930ef3",
   "metadata": {},
   "outputs": [
    {
     "data": {
      "text/plain": [
       "UTS(0.0, 0.01, 73656)"
      ]
     },
     "execution_count": 22,
     "metadata": {},
     "output_type": "execute_result"
    }
   ],
   "source": [
    "predictors_concatenated[0].get_dim('time')"
   ]
  },
  {
   "cell_type": "code",
   "execution_count": null,
   "id": "fb876615",
   "metadata": {},
   "outputs": [],
   "source": []
  }
 ],
 "metadata": {
  "kernelspec": {
   "display_name": "Python 3 (ipykernel)",
   "language": "python",
   "name": "python3"
  },
  "language_info": {
   "codemirror_mode": {
    "name": "ipython",
    "version": 3
   },
   "file_extension": ".py",
   "mimetype": "text/x-python",
   "name": "python",
   "nbconvert_exporter": "python",
   "pygments_lexer": "ipython3",
   "version": "3.9.7"
  }
 },
 "nbformat": 4,
 "nbformat_minor": 5
}
